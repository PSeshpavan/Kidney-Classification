{
 "cells": [
  {
   "cell_type": "markdown",
   "id": "600e0b8c",
   "metadata": {},
   "source": [
    "### Download data from gdrive"
   ]
  },
  {
   "cell_type": "code",
   "execution_count": 1,
   "id": "d159c081",
   "metadata": {},
   "outputs": [],
   "source": [
    "import gdown"
   ]
  },
  {
   "cell_type": "code",
   "execution_count": 2,
   "id": "3ea29e0e",
   "metadata": {},
   "outputs": [],
   "source": [
    "url = \"https://drive.google.com/file/d/1r-cNJnhO0APBZvIKxPiNId0RBqcNPNcI/view?usp=sharing\""
   ]
  },
  {
   "cell_type": "code",
   "execution_count": 3,
   "id": "f2aa09b8",
   "metadata": {},
   "outputs": [
    {
     "data": {
      "text/plain": [
       "'1r-cNJnhO0APBZvIKxPiNId0RBqcNPNcI'"
      ]
     },
     "execution_count": 3,
     "metadata": {},
     "output_type": "execute_result"
    }
   ],
   "source": [
    "file_id = url.split(\"/\")[-2]\n",
    "file_id"
   ]
  },
  {
   "cell_type": "code",
   "execution_count": 4,
   "id": "002e6b7e",
   "metadata": {},
   "outputs": [
    {
     "name": "stderr",
     "output_type": "stream",
     "text": [
      "Downloading...\n",
      "From (original): https://drive.google.com/uc?/export=download&id=1r-cNJnhO0APBZvIKxPiNId0RBqcNPNcI\n",
      "From (redirected): https://drive.google.com/uc?%2Fexport=download&id=1r-cNJnhO0APBZvIKxPiNId0RBqcNPNcI&confirm=t&uuid=8aafc5fe-3242-4f0d-a524-5be9f03f0b2e\n",
      "To: d:\\PYTHON\\AI-ML-DS\\DS\\Kidney Classification Model\\research\\kidney-CT-Scan-data.zip\n",
      "100%|██████████| 1.63G/1.63G [02:02<00:00, 13.2MB/s]\n"
     ]
    },
    {
     "data": {
      "text/plain": [
       "'kidney-CT-Scan-data.zip'"
      ]
     },
     "execution_count": 4,
     "metadata": {},
     "output_type": "execute_result"
    }
   ],
   "source": [
    "prefix = 'https://drive.google.com/uc?/export=download&id='\n",
    "gdown.download(prefix+file_id, \"kidney-CT-Scan-data.zip\")"
   ]
  }
 ],
 "metadata": {
  "kernelspec": {
   "display_name": "kidney",
   "language": "python",
   "name": "python3"
  },
  "language_info": {
   "codemirror_mode": {
    "name": "ipython",
    "version": 3
   },
   "file_extension": ".py",
   "mimetype": "text/x-python",
   "name": "python",
   "nbconvert_exporter": "python",
   "pygments_lexer": "ipython3",
   "version": "3.12.9"
  }
 },
 "nbformat": 4,
 "nbformat_minor": 5
}
